{
 "cells": [
  {
   "cell_type": "code",
   "execution_count": 1,
   "id": "ca073aa5-9f61-4187-87e5-ded6ae9da786",
   "metadata": {},
   "outputs": [
    {
     "name": "stderr",
     "output_type": "stream",
     "text": [
      "Gtk-Message: 15:33:31.475: Failed to load module \"canberra-gtk-module\"\n"
     ]
    }
   ],
   "source": [
    "%gui wx\n",
    "import sys\n",
    "import os\n",
    "\n",
    "#####################\n",
    "# Import of utils.py functions\n",
    "#####################\n",
    "# Required to get utils.py and access its functions\n",
    "notebook_dir = os.path.abspath(\"\")\n",
    "parent_dir = os.path.abspath(os.path.join(notebook_dir, '..'))\n",
    "sys.path.append(parent_dir)\n",
    "sys.path.append('.')\n",
    "from utils import loadFSL, FSLeyesServer, mkdir_no_exist, interactive_MCQ\n",
    "\n",
    "os.environ[\"DIPY_HOME\"] = \"/home/jovyan/Data\"\n",
    "\n",
    "\n",
    "#############################\n",
    "# Loading fsl and freesurfer within Neurodesk\n",
    "# You can find the list of available other modules by clicking on the \"Softwares\" tab on the left\n",
    "#############################\n",
    "import lmod\n",
    "await lmod.purge(force=True)\n",
    "await lmod.load('fsl/6.0.7.4')\n",
    "await lmod.load('freesurfer/7.4.1')\n",
    "await lmod.list()\n",
    "\n",
    "####################\n",
    "# Setup FSL path\n",
    "####################\n",
    "loadFSL()\n",
    "\n",
    "###################\n",
    "# Load all relevant libraries for the lab\n",
    "##################\n",
    "import fsl.wrappers\n",
    "from fsl.wrappers import fslmaths\n",
    "\n",
    "import mne_nirs\n",
    "import nilearn\n",
    "from nilearn.datasets import fetch_development_fmri\n",
    "\n",
    "import mne\n",
    "import mne_nirs\n",
    "import dipy\n",
    "from dipy.data import fetch_bundles_2_subjects, read_bundles_2_subjects\n",
    "import xml.etree.ElementTree as ET\n",
    "import os.path as op\n",
    "import nibabel as nib\n",
    "import glob\n",
    "\n",
    "import ants\n",
    "\n",
    "import openneuro\n",
    "from mne.datasets import sample\n",
    "from mne_bids import BIDSPath, read_raw_bids, print_dir_tree, make_report\n",
    "\n",
    "\n",
    "# Useful imports to define the direct download function below\n",
    "import requests\n",
    "import urllib.request\n",
    "from tqdm import tqdm\n",
    "\n",
    "\n",
    "# FSL function wrappers which we will call from python directly\n",
    "from fsl.wrappers import fast, bet\n",
    "from fsl.wrappers.misc import fslroi\n",
    "from fsl.wrappers import flirt\n",
    "\n",
    "# General purpose imports to handle paths, files etc\n",
    "import glob\n",
    "import pandas as pd\n",
    "import numpy as np\n",
    "import json\n",
    "import subprocess"
   ]
  },
  {
   "cell_type": "code",
   "execution_count": 2,
   "id": "325abb6e-c9fd-40f2-96c0-865d93294e58",
   "metadata": {},
   "outputs": [
    {
     "name": "stderr",
     "output_type": "stream",
     "text": [
      "15:33:43: Debug: Adding duplicate image handler for 'Windows bitmap file'\n",
      "15:33:43: Debug: Adding duplicate animation handler for '1' type\n",
      "15:33:43: Debug: Adding duplicate animation handler for '2' type\n",
      "15:33:43: Debug: Adding duplicate image handler for 'Windows bitmap file'\n",
      "15:33:43: Debug: Adding duplicate animation handler for '1' type\n",
      "15:33:43: Debug: Adding duplicate animation handler for '2' type\n",
      "\n",
      "(ipykernel_launcher.py:565): Gtk-CRITICAL **: 15:33:44.141: gtk_window_resize: assertion 'height > 0' failed\n"
     ]
    }
   ],
   "source": [
    "################\n",
    "# Start FSLeyes (very neat tool to visualize MRI data of all sorts) within Python\n",
    "################\n",
    "fsleyesDisplay = FSLeyesServer()\n",
    "fsleyesDisplay.show()"
   ]
  },
  {
   "cell_type": "code",
   "execution_count": 8,
   "id": "e76dbcbb-2593-4978-84bd-726929e97cd6",
   "metadata": {},
   "outputs": [],
   "source": [
    "# Variables\n",
    "dataset_id = \"ds000171\"\n",
    "bids_root = \"./ds000171\"  # Directory to store the downloaded dataset\n",
    "# Path to the 'derivatives' directory for processed data\n",
    "deriv_root = os.path.join(bids_root, 'derivatives')\n",
    "\n",
    "# Create a directory for preprocessed data (e.g., 'preprocessed_data')\n",
    "preproc_root = os.path.join(deriv_root, 'preprocessed_data')"
   ]
  },
  {
   "cell_type": "code",
   "execution_count": 9,
   "id": "d27260a5-68e3-4732-bc69-d7e36a98d22a",
   "metadata": {},
   "outputs": [],
   "source": [
    "\n",
    "\n",
    "# Create the target directory if it does not exist\n",
    "if not os.path.exists(bids_root):\n",
    "    os.makedirs(bids_root)\n",
    "\n",
    "# Download the raw data from OpenNeuro into the target directory\n",
    "#openneuro.download(dataset=dataset_id, target_dir= bids_root)\n",
    "\n",
    "\n"
   ]
  },
  {
   "cell_type": "code",
   "execution_count": 10,
   "id": "6803a6b3-e058-4884-a99c-bd11457e9d17",
   "metadata": {},
   "outputs": [],
   "source": [
    "if not os.path.exists(preproc_root):\n",
    "    os.makedirs(preproc_root)"
   ]
  },
  {
   "cell_type": "code",
   "execution_count": 11,
   "id": "e17a849d-cae4-4c85-9ec0-1e9e00efe69c",
   "metadata": {},
   "outputs": [
    {
     "name": "stdout",
     "output_type": "stream",
     "text": [
      "Directories created for processed data in ./ds000171/derivatives/preprocessed_data\n"
     ]
    }
   ],
   "source": [
    "subjects = [d for d in os.listdir(bids_root) if d.startswith('sub-con')]\n",
    "# Loop over all subjects and create directories for each subject's processed data\n",
    "for subject in subjects:\n",
    "    subject_dir = os.path.join(preproc_root, subject)\n",
    "\n",
    "    # Create subdirectories for anatomical and functional data\n",
    "    os.makedirs(os.path.join(subject_dir, 'anat'), exist_ok=True)\n",
    "    os.makedirs(os.path.join(subject_dir, 'func'), exist_ok=True)\n",
    "\n",
    "print(f\"Directories created for processed data in {preproc_root}\")"
   ]
  },
  {
   "cell_type": "code",
   "execution_count": 12,
   "id": "4e2858da-162d-4784-b3a7-9c31102c7e0d",
   "metadata": {},
   "outputs": [
    {
     "name": "stdout",
     "output_type": "stream",
     "text": [
      "oui\n"
     ]
    }
   ],
   "source": [
    "\n",
    "subjects = [d for d in os.listdir(bids_root) if d.startswith('sub-con')]\n",
    "anatomical_path = op.join(bids_root, subjects[0], 'anat', '{}_T1w.nii.gz'.format(subjects[0]))\n",
    "\n",
    "# Check if the anatomical file exists before calling BET\n",
    "if not os.path.exists(anatomical_path):\n",
    "    print(f\"Error: Anatomical file not found: {anatomical_path}\")\n",
    "else : \n",
    "    print(\"oui\")"
   ]
  },
  {
   "cell_type": "code",
   "execution_count": 13,
   "id": "a0b7df63-ec80-4cdc-ad1d-9f7b92d3108d",
   "metadata": {},
   "outputs": [
    {
     "name": "stderr",
     "output_type": "stream",
     "text": [
      "  5% 1/20 [00:04<01:25,  4.52s/it]"
     ]
    },
    {
     "name": "stdout",
     "output_type": "stream",
     "text": [
      "Done with BET.\n"
     ]
    },
    {
     "name": "stderr",
     "output_type": "stream",
     "text": [
      " 10% 2/20 [00:07<01:02,  3.47s/it]"
     ]
    },
    {
     "name": "stdout",
     "output_type": "stream",
     "text": [
      "Done with BET.\n"
     ]
    },
    {
     "name": "stderr",
     "output_type": "stream",
     "text": [
      " 15% 3/20 [00:09<00:53,  3.12s/it]"
     ]
    },
    {
     "name": "stdout",
     "output_type": "stream",
     "text": [
      "Done with BET.\n"
     ]
    },
    {
     "name": "stderr",
     "output_type": "stream",
     "text": [
      " 20% 4/20 [00:12<00:47,  2.96s/it]"
     ]
    },
    {
     "name": "stdout",
     "output_type": "stream",
     "text": [
      "Done with BET.\n"
     ]
    },
    {
     "name": "stderr",
     "output_type": "stream",
     "text": [
      " 25% 5/20 [00:16<00:46,  3.10s/it]"
     ]
    },
    {
     "name": "stdout",
     "output_type": "stream",
     "text": [
      "Done with BET.\n"
     ]
    },
    {
     "name": "stderr",
     "output_type": "stream",
     "text": [
      " 30% 6/20 [00:18<00:41,  3.00s/it]"
     ]
    },
    {
     "name": "stdout",
     "output_type": "stream",
     "text": [
      "Done with BET.\n"
     ]
    },
    {
     "name": "stderr",
     "output_type": "stream",
     "text": [
      " 35% 7/20 [00:22<00:43,  3.33s/it]"
     ]
    },
    {
     "name": "stdout",
     "output_type": "stream",
     "text": [
      "Done with BET.\n"
     ]
    },
    {
     "name": "stderr",
     "output_type": "stream",
     "text": [
      " 40% 8/20 [00:26<00:42,  3.53s/it]"
     ]
    },
    {
     "name": "stdout",
     "output_type": "stream",
     "text": [
      "Done with BET.\n"
     ]
    },
    {
     "name": "stderr",
     "output_type": "stream",
     "text": [
      " 45% 9/20 [00:29<00:35,  3.26s/it]"
     ]
    },
    {
     "name": "stdout",
     "output_type": "stream",
     "text": [
      "Done with BET.\n"
     ]
    },
    {
     "name": "stderr",
     "output_type": "stream",
     "text": [
      " 50% 10/20 [00:32<00:31,  3.12s/it]"
     ]
    },
    {
     "name": "stdout",
     "output_type": "stream",
     "text": [
      "Done with BET.\n"
     ]
    },
    {
     "name": "stderr",
     "output_type": "stream",
     "text": [
      " 55% 11/20 [00:35<00:27,  3.02s/it]"
     ]
    },
    {
     "name": "stdout",
     "output_type": "stream",
     "text": [
      "Done with BET.\n"
     ]
    },
    {
     "name": "stderr",
     "output_type": "stream",
     "text": [
      " 60% 12/20 [00:37<00:23,  2.96s/it]"
     ]
    },
    {
     "name": "stdout",
     "output_type": "stream",
     "text": [
      "Done with BET.\n"
     ]
    },
    {
     "name": "stderr",
     "output_type": "stream",
     "text": [
      " 65% 13/20 [00:40<00:20,  2.90s/it]"
     ]
    },
    {
     "name": "stdout",
     "output_type": "stream",
     "text": [
      "Done with BET.\n"
     ]
    },
    {
     "name": "stderr",
     "output_type": "stream",
     "text": [
      " 70% 14/20 [00:43<00:17,  2.87s/it]"
     ]
    },
    {
     "name": "stdout",
     "output_type": "stream",
     "text": [
      "Done with BET.\n"
     ]
    },
    {
     "name": "stderr",
     "output_type": "stream",
     "text": [
      " 75% 15/20 [00:46<00:14,  2.84s/it]"
     ]
    },
    {
     "name": "stdout",
     "output_type": "stream",
     "text": [
      "Done with BET.\n"
     ]
    },
    {
     "name": "stderr",
     "output_type": "stream",
     "text": [
      " 80% 16/20 [00:49<00:11,  2.83s/it]"
     ]
    },
    {
     "name": "stdout",
     "output_type": "stream",
     "text": [
      "Done with BET.\n"
     ]
    },
    {
     "name": "stderr",
     "output_type": "stream",
     "text": [
      " 85% 17/20 [00:53<00:09,  3.20s/it]"
     ]
    },
    {
     "name": "stdout",
     "output_type": "stream",
     "text": [
      "Done with BET.\n"
     ]
    },
    {
     "name": "stderr",
     "output_type": "stream",
     "text": [
      " 90% 18/20 [00:55<00:06,  3.08s/it]"
     ]
    },
    {
     "name": "stdout",
     "output_type": "stream",
     "text": [
      "Done with BET.\n"
     ]
    },
    {
     "name": "stderr",
     "output_type": "stream",
     "text": [
      " 95% 19/20 [00:58<00:02,  2.99s/it]"
     ]
    },
    {
     "name": "stdout",
     "output_type": "stream",
     "text": [
      "Done with BET.\n"
     ]
    },
    {
     "name": "stderr",
     "output_type": "stream",
     "text": [
      "100% 20/20 [01:01<00:00,  3.07s/it]"
     ]
    },
    {
     "name": "stdout",
     "output_type": "stream",
     "text": [
      "Done with BET.\n"
     ]
    },
    {
     "name": "stderr",
     "output_type": "stream",
     "text": [
      "\n"
     ]
    }
   ],
   "source": [
    "#________________________________ ANATOMICAL PREPROCESSING ____________________________________________\n",
    "subjects = [d for d in os.listdir(bids_root) if d.startswith('sub-con')]\n",
    "def get_skull_stripped_anatomical(bids_root, preproc_root, subject, robust=False):\n",
    "    \"\"\"\n",
    "    Function to perform skull-stripping (removing the skull around the brain).\n",
    "    This is a simple wrapper around the brain extraction tool (BET) in FSL's suite\n",
    "    It assumes data to be in the BIDS format (which we will cover in the following weeks).\n",
    "    The method also saves the brain mask which was used to extract the brain.\n",
    "\n",
    "    The brain extraction is conducted only on the T1w of the participant.\n",
    "\n",
    "    Parameters\n",
    "    ----------\n",
    "    bids_root: string\n",
    "        The root of the BIDS directory\n",
    "    preproc_root: string\n",
    "        The root of the preprocessed data, where the result of the brain extraction will be saved.\n",
    "    subject_id: string\n",
    "        Subject ID, the subject on which brain extraction should be conducted.\n",
    "    robust: bool\n",
    "        Whether to conduct robust center estimation with BET or not. Default is False.\n",
    "    \"\"\"\n",
    "    anatomical_path = op.join(bids_root, subject, 'anat', '{}_T1w.nii.gz'.format(subject))\n",
    "    betted_brain_path = op.join(preproc_root, subject, 'anat', '{}_T1w'.format(subject))\n",
    "    os.system('bet {} {} -m {}'.format(anatomical_path, betted_brain_path, '-R' if robust else ''))\n",
    "\n",
    "\n",
    "\n",
    "\n",
    "for sub in tqdm(subjects) : \n",
    "    get_skull_stripped_anatomical(bids_root, preproc_root, sub)\n",
    "    print(\"Done with BET.\")\n"
   ]
  },
  {
   "cell_type": "code",
   "execution_count": 15,
   "id": "78505bf2-11d7-4bc9-af55-783f83d9f9b1",
   "metadata": {},
   "outputs": [
    {
     "ename": "PathError",
     "evalue": "Could not find a supported file with prefix \"/home/jovyan/ds000171/derivatives/preprocessed_data/sub-control14/anat/sub-control07_T1w_mask\"",
     "output_type": "error",
     "traceback": [
      "\u001b[0;31m---------------------------------------------------------------------------\u001b[0m",
      "\u001b[0;31mPathError\u001b[0m                                 Traceback (most recent call last)",
      "Cell \u001b[0;32mIn[15], line 3\u001b[0m\n\u001b[1;32m      1\u001b[0m \u001b[38;5;66;03m# Pour check que bien marcher : \u001b[39;00m\n\u001b[1;32m      2\u001b[0m resulting_mask_path \u001b[38;5;241m=\u001b[39m op\u001b[38;5;241m.\u001b[39mjoin(preproc_root, subject, \u001b[38;5;124m'\u001b[39m\u001b[38;5;124manat\u001b[39m\u001b[38;5;124m'\u001b[39m, \u001b[38;5;124m'\u001b[39m\u001b[38;5;132;01m{}\u001b[39;00m\u001b[38;5;124m_T1w_mask\u001b[39m\u001b[38;5;124m'\u001b[39m\u001b[38;5;241m.\u001b[39mformat(subjects[\u001b[38;5;241m1\u001b[39m]))\n\u001b[0;32m----> 3\u001b[0m \u001b[43mfsleyesDisplay\u001b[49m\u001b[38;5;241;43m.\u001b[39;49m\u001b[43mload\u001b[49m\u001b[43m(\u001b[49m\u001b[43mresulting_mask_path\u001b[49m\u001b[43m)\u001b[49m\n",
      "File \u001b[0;32m~/utils.py:124\u001b[0m, in \u001b[0;36mFSLeyesServer.load\u001b[0;34m(self, image_path)\u001b[0m\n\u001b[1;32m    122\u001b[0m     \u001b[38;5;28mself\u001b[39m\u001b[38;5;241m.\u001b[39moverlayList\u001b[38;5;241m.\u001b[39mappend(trk_overlay)\n\u001b[1;32m    123\u001b[0m \u001b[38;5;28;01melse\u001b[39;00m:\n\u001b[0;32m--> 124\u001b[0m     \u001b[38;5;28mself\u001b[39m\u001b[38;5;241m.\u001b[39moverlayList\u001b[38;5;241m.\u001b[39mappend(\u001b[43mImage\u001b[49m\u001b[43m(\u001b[49m\u001b[43mimage_path\u001b[49m\u001b[43m)\u001b[49m)\n",
      "File \u001b[0;32m/opt/conda/lib/python3.11/site-packages/fsl/data/image.py:1260\u001b[0m, in \u001b[0;36mImage.__init__\u001b[0;34m(self, image, name, header, xform, loadData, calcRange, threaded, dataSource, loadMeta, dataMgr, version, **kwargs)\u001b[0m\n\u001b[1;32m   1257\u001b[0m \u001b[38;5;28;01mif\u001b[39;00m \u001b[38;5;28misinstance\u001b[39m(image, (\u001b[38;5;28mstr\u001b[39m, Path)):\n\u001b[1;32m   1258\u001b[0m     \u001b[38;5;66;03m# resolve path to source if it is a sym-link\u001b[39;00m\n\u001b[1;32m   1259\u001b[0m     image      \u001b[38;5;241m=\u001b[39m Path(image)\u001b[38;5;241m.\u001b[39mresolve()\n\u001b[0;32m-> 1260\u001b[0m     image      \u001b[38;5;241m=\u001b[39m op\u001b[38;5;241m.\u001b[39mabspath(\u001b[43maddExt\u001b[49m\u001b[43m(\u001b[49m\u001b[43mimage\u001b[49m\u001b[43m)\u001b[49m)\n\u001b[1;32m   1261\u001b[0m     nibImage   \u001b[38;5;241m=\u001b[39m nib\u001b[38;5;241m.\u001b[39mload(image, \u001b[38;5;241m*\u001b[39m\u001b[38;5;241m*\u001b[39mkwargs)\n\u001b[1;32m   1262\u001b[0m     header     \u001b[38;5;241m=\u001b[39m nibImage\u001b[38;5;241m.\u001b[39mheader\n",
      "File \u001b[0;32m/opt/conda/lib/python3.11/site-packages/fsl/data/image.py:1969\u001b[0m, in \u001b[0;36maddExt\u001b[0;34m(prefix, mustExist, unambiguous)\u001b[0m\n\u001b[1;32m   1967\u001b[0m \u001b[38;5;28;01mif\u001b[39;00m \u001b[38;5;28mstr\u001b[39m(e)\u001b[38;5;241m.\u001b[39mstartswith(\u001b[38;5;124m'\u001b[39m\u001b[38;5;124mMore than\u001b[39m\u001b[38;5;124m'\u001b[39m):\n\u001b[1;32m   1968\u001b[0m     log\u001b[38;5;241m.\u001b[39mwarning(e)\n\u001b[0;32m-> 1969\u001b[0m \u001b[38;5;28;01mraise\u001b[39;00m e\n",
      "File \u001b[0;32m/opt/conda/lib/python3.11/site-packages/fsl/data/image.py:1956\u001b[0m, in \u001b[0;36maddExt\u001b[0;34m(prefix, mustExist, unambiguous)\u001b[0m\n\u001b[1;32m   1952\u001b[0m \u001b[38;5;250m\u001b[39m\u001b[38;5;124;03m\"\"\"Adds a file extension to the given file ``prefix``.  See\u001b[39;00m\n\u001b[1;32m   1953\u001b[0m \u001b[38;5;124;03m:func:`~fsl.utils.path.addExt`.\u001b[39;00m\n\u001b[1;32m   1954\u001b[0m \u001b[38;5;124;03m\"\"\"\u001b[39;00m\n\u001b[1;32m   1955\u001b[0m \u001b[38;5;28;01mtry\u001b[39;00m:\n\u001b[0;32m-> 1956\u001b[0m     \u001b[38;5;28;01mreturn\u001b[39;00m \u001b[43mfslpath\u001b[49m\u001b[38;5;241;43m.\u001b[39;49m\u001b[43maddExt\u001b[49m\u001b[43m(\u001b[49m\u001b[43mprefix\u001b[49m\u001b[43m,\u001b[49m\n\u001b[1;32m   1957\u001b[0m \u001b[43m                          \u001b[49m\u001b[43mallowedExts\u001b[49m\u001b[38;5;241;43m=\u001b[39;49m\u001b[43mALLOWED_EXTENSIONS\u001b[49m\u001b[43m,\u001b[49m\n\u001b[1;32m   1958\u001b[0m \u001b[43m                          \u001b[49m\u001b[43mmustExist\u001b[49m\u001b[38;5;241;43m=\u001b[39;49m\u001b[43mmustExist\u001b[49m\u001b[43m,\u001b[49m\n\u001b[1;32m   1959\u001b[0m \u001b[43m                          \u001b[49m\u001b[43mdefaultExt\u001b[49m\u001b[38;5;241;43m=\u001b[39;49m\u001b[43mdefaultExt\u001b[49m\u001b[43m(\u001b[49m\u001b[43m)\u001b[49m\u001b[43m,\u001b[49m\n\u001b[1;32m   1960\u001b[0m \u001b[43m                          \u001b[49m\u001b[43mfileGroups\u001b[49m\u001b[38;5;241;43m=\u001b[39;49m\u001b[43mFILE_GROUPS\u001b[49m\u001b[43m,\u001b[49m\n\u001b[1;32m   1961\u001b[0m \u001b[43m                          \u001b[49m\u001b[43munambiguous\u001b[49m\u001b[38;5;241;43m=\u001b[39;49m\u001b[43munambiguous\u001b[49m\u001b[43m)\u001b[49m\n\u001b[1;32m   1962\u001b[0m \u001b[38;5;28;01mexcept\u001b[39;00m fslpath\u001b[38;5;241m.\u001b[39mPathError \u001b[38;5;28;01mas\u001b[39;00m e:\n\u001b[1;32m   1963\u001b[0m     \u001b[38;5;66;03m# hacky: if more than one file with\u001b[39;00m\n\u001b[1;32m   1964\u001b[0m     \u001b[38;5;66;03m# the prefix exists, we emit a\u001b[39;00m\n\u001b[1;32m   1965\u001b[0m     \u001b[38;5;66;03m# warning, because in most cases\u001b[39;00m\n\u001b[1;32m   1966\u001b[0m     \u001b[38;5;66;03m# this is a bad thing.\u001b[39;00m\n\u001b[1;32m   1967\u001b[0m     \u001b[38;5;28;01mif\u001b[39;00m \u001b[38;5;28mstr\u001b[39m(e)\u001b[38;5;241m.\u001b[39mstartswith(\u001b[38;5;124m'\u001b[39m\u001b[38;5;124mMore than\u001b[39m\u001b[38;5;124m'\u001b[39m):\n",
      "File \u001b[0;32m/opt/conda/lib/python3.11/site-packages/fsl/utils/path.py:196\u001b[0m, in \u001b[0;36maddExt\u001b[0;34m(prefix, allowedExts, mustExist, defaultExt, fileGroups, unambiguous)\u001b[0m\n\u001b[1;32m    193\u001b[0m \u001b[38;5;66;03m# Could not find any supported file\u001b[39;00m\n\u001b[1;32m    194\u001b[0m \u001b[38;5;66;03m# with the specified prefix\u001b[39;00m\n\u001b[1;32m    195\u001b[0m \u001b[38;5;28;01mif\u001b[39;00m nexists \u001b[38;5;241m==\u001b[39m \u001b[38;5;241m0\u001b[39m:\n\u001b[0;32m--> 196\u001b[0m     \u001b[38;5;28;01mraise\u001b[39;00m PathError(\u001b[38;5;124m'\u001b[39m\u001b[38;5;124mCould not find a supported file \u001b[39m\u001b[38;5;124m'\u001b[39m\n\u001b[1;32m    197\u001b[0m                     \u001b[38;5;124m'\u001b[39m\u001b[38;5;124mwith prefix \u001b[39m\u001b[38;5;124m\"\u001b[39m\u001b[38;5;132;01m{}\u001b[39;00m\u001b[38;5;124m\"\u001b[39m\u001b[38;5;124m'\u001b[39m\u001b[38;5;241m.\u001b[39mformat(prefix))\n\u001b[1;32m    199\u001b[0m \u001b[38;5;66;03m# If ambiguity is ok, return\u001b[39;00m\n\u001b[1;32m    200\u001b[0m \u001b[38;5;66;03m# all matching paths\u001b[39;00m\n\u001b[1;32m    201\u001b[0m \u001b[38;5;28;01mif\u001b[39;00m \u001b[38;5;129;01mnot\u001b[39;00m unambiguous:\n",
      "\u001b[0;31mPathError\u001b[0m: Could not find a supported file with prefix \"/home/jovyan/ds000171/derivatives/preprocessed_data/sub-control14/anat/sub-control07_T1w_mask\""
     ]
    }
   ],
   "source": [
    "# Pour check que bien marcher : \n",
    "resulting_mask_path = op.join(preproc_root, subject, 'anat', '{}_T1w_mask'.format(subjects[1]))\n",
    "fsleyesDisplay.load(resulting_mask_path)"
   ]
  },
  {
   "cell_type": "code",
   "execution_count": null,
   "id": "f2a8edcb-9ab9-43f4-b224-68672a2460e9",
   "metadata": {},
   "outputs": [],
   "source": []
  }
 ],
 "metadata": {
  "kernelspec": {
   "display_name": "Python 3 (ipykernel)",
   "language": "python",
   "name": "python3"
  },
  "language_info": {
   "codemirror_mode": {
    "name": "ipython",
    "version": 3
   },
   "file_extension": ".py",
   "mimetype": "text/x-python",
   "name": "python",
   "nbconvert_exporter": "python",
   "pygments_lexer": "ipython3",
   "version": "3.11.6"
  }
 },
 "nbformat": 4,
 "nbformat_minor": 5
}
