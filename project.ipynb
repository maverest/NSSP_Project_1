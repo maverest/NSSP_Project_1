{
 "cells": [
  {
   "cell_type": "code",
   "execution_count": 1,
   "id": "ca073aa5-9f61-4187-87e5-ded6ae9da786",
   "metadata": {},
   "outputs": [
    {
     "name": "stderr",
     "output_type": "stream",
     "text": [
      "Gtk-Message: 14:16:44.846: Failed to load module \"canberra-gtk-module\"\n"
     ]
    }
   ],
   "source": [
    "%gui wx\n",
    "import sys\n",
    "import os\n",
    "\n",
    "#####################\n",
    "# Import of utils.py functions\n",
    "#####################\n",
    "# Required to get utils.py and access its functions\n",
    "notebook_dir = os.path.abspath(\"\")\n",
    "parent_dir = os.path.abspath(os.path.join(notebook_dir, '..'))\n",
    "sys.path.append(parent_dir)\n",
    "sys.path.append('.')\n",
    "from utils import loadFSL, FSLeyesServer, mkdir_no_exist, interactive_MCQ\n",
    "\n",
    "os.environ[\"DIPY_HOME\"] = \"/home/jovyan/Data\"\n",
    "\n",
    "\n",
    "#############################\n",
    "# Loading fsl and freesurfer within Neurodesk\n",
    "# You can find the list of available other modules by clicking on the \"Softwares\" tab on the left\n",
    "#############################\n",
    "import lmod\n",
    "await lmod.purge(force=True)\n",
    "await lmod.load('fsl/6.0.7.4')\n",
    "await lmod.load('freesurfer/7.4.1')\n",
    "await lmod.list()\n",
    "\n",
    "####################\n",
    "# Setup FSL path\n",
    "####################\n",
    "loadFSL()\n",
    "\n",
    "###################\n",
    "# Load all relevant libraries for the lab\n",
    "##################\n",
    "import fsl.wrappers\n",
    "from fsl.wrappers import fslmaths\n",
    "\n",
    "import mne_nirs\n",
    "import nilearn\n",
    "from nilearn.datasets import fetch_development_fmri\n",
    "\n",
    "import mne\n",
    "import mne_nirs\n",
    "import dipy\n",
    "from dipy.data import fetch_bundles_2_subjects, read_bundles_2_subjects\n",
    "import xml.etree.ElementTree as ET\n",
    "import os.path as op\n",
    "import nibabel as nib\n",
    "import glob\n",
    "\n",
    "import ants\n",
    "\n",
    "import openneuro\n",
    "from mne.datasets import sample\n",
    "from mne_bids import BIDSPath, read_raw_bids, print_dir_tree, make_report\n",
    "\n",
    "\n",
    "# Useful imports to define the direct download function below\n",
    "import requests\n",
    "import urllib.request\n",
    "from tqdm import tqdm\n",
    "\n",
    "\n",
    "# FSL function wrappers which we will call from python directly\n",
    "from fsl.wrappers import fast, bet\n",
    "from fsl.wrappers.misc import fslroi\n",
    "from fsl.wrappers import flirt\n",
    "\n",
    "# General purpose imports to handle paths, files etc\n",
    "import glob\n",
    "import pandas as pd\n",
    "import numpy as np\n",
    "import json\n",
    "import subprocess"
   ]
  },
  {
   "cell_type": "code",
   "execution_count": 2,
   "id": "325abb6e-c9fd-40f2-96c0-865d93294e58",
   "metadata": {},
   "outputs": [
    {
     "name": "stderr",
     "output_type": "stream",
     "text": [
      "14:18:03: Debug: Adding duplicate image handler for 'Windows bitmap file'\n",
      "14:18:03: Debug: Adding duplicate animation handler for '1' type\n",
      "14:18:03: Debug: Adding duplicate animation handler for '2' type\n",
      "14:18:03: Debug: Adding duplicate image handler for 'Windows bitmap file'\n",
      "14:18:03: Debug: Adding duplicate animation handler for '1' type\n",
      "14:18:03: Debug: Adding duplicate animation handler for '2' type\n",
      "\n",
      "(ipykernel_launcher.py:614): Gtk-CRITICAL **: 14:18:04.006: gtk_window_resize: assertion 'height > 0' failed\n",
      "14:18:05: Debug: ScreenToClient cannot work when toplevel window is not shown\n",
      "14:18:05: Debug: ScreenToClient cannot work when toplevel window is not shown\n",
      "14:18:05: Debug: ScreenToClient cannot work when toplevel window is not shown\n",
      "14:18:05: Debug: ScreenToClient cannot work when toplevel window is not shown\n",
      "14:18:05: Debug: ScreenToClient cannot work when toplevel window is not shown\n",
      "14:18:05: Debug: ScreenToClient cannot work when toplevel window is not shown\n",
      "14:18:05: Debug: ScreenToClient cannot work when toplevel window is not shown\n",
      "14:18:05: Debug: ScreenToClient cannot work when toplevel window is not shown\n",
      "14:18:05: Debug: ScreenToClient cannot work when toplevel window is not shown\n",
      "14:18:05: Debug: ScreenToClient cannot work when toplevel window is not shown\n",
      "14:18:05: Debug: ScreenToClient cannot work when toplevel window is not shown\n"
     ]
    }
   ],
   "source": [
    "################\n",
    "# Start FSLeyes (very neat tool to visualize MRI data of all sorts) within Python\n",
    "################\n",
    "fsleyesDisplay = FSLeyesServer()\n",
    "fsleyesDisplay.show()"
   ]
  },
  {
   "cell_type": "code",
   "execution_count": 3,
   "id": "e76dbcbb-2593-4978-84bd-726929e97cd6",
   "metadata": {},
   "outputs": [],
   "source": [
    "# Variables\n",
    "dataset_id = \"ds000171\"\n",
    "bids_root = \"./ds000171\"  # Directory to store the downloaded dataset\n",
    "# Path to the 'derivatives' directory for processed data\n",
    "deriv_root = os.path.join(bids_root, 'derivatives')\n",
    "\n",
    "# Create a directory for preprocessed data (e.g., 'preprocessed_data')\n",
    "preproc_root = os.path.join(deriv_root, 'preprocessed_data')"
   ]
  },
  {
   "cell_type": "code",
   "execution_count": 4,
   "id": "d27260a5-68e3-4732-bc69-d7e36a98d22a",
   "metadata": {},
   "outputs": [],
   "source": [
    "\n",
    "\n",
    "# Create the target directory if it does not exist\n",
    "if not os.path.exists(bids_root):\n",
    "    os.makedirs(bids_root)\n",
    "\n",
    "# Download the raw data from OpenNeuro into the target directory\n",
    "#openneuro.download(dataset=dataset_id, target_dir= bids_root)\n",
    "\n",
    "\n"
   ]
  },
  {
   "cell_type": "code",
   "execution_count": 5,
   "id": "6803a6b3-e058-4884-a99c-bd11457e9d17",
   "metadata": {},
   "outputs": [],
   "source": [
    "if not os.path.exists(preproc_root):\n",
    "    os.makedirs(preproc_root)"
   ]
  },
  {
   "cell_type": "code",
   "execution_count": 6,
   "id": "e17a849d-cae4-4c85-9ec0-1e9e00efe69c",
   "metadata": {},
   "outputs": [
    {
     "name": "stdout",
     "output_type": "stream",
     "text": [
      "Directories created for processed data in ./ds000171/derivatives/preprocessed_data\n"
     ]
    }
   ],
   "source": [
    "subjects = [d for d in os.listdir(bids_root) if d.startswith('sub-con')]\n",
    "# Loop over all subjects and create directories for each subject's processed data\n",
    "for subject in subjects:\n",
    "    subject_dir = os.path.join(preproc_root, subject)\n",
    "\n",
    "    # Create subdirectories for anatomical and functional data\n",
    "    os.makedirs(os.path.join(subject_dir, 'anat'), exist_ok=True)\n",
    "    os.makedirs(os.path.join(subject_dir, 'func'), exist_ok=True)\n",
    "\n",
    "print(f\"Directories created for processed data in {preproc_root}\")"
   ]
  },
  {
   "cell_type": "code",
   "execution_count": 8,
   "id": "4e2858da-162d-4784-b3a7-9c31102c7e0d",
   "metadata": {},
   "outputs": [
    {
     "name": "stdout",
     "output_type": "stream",
     "text": [
      "oui\n"
     ]
    }
   ],
   "source": [
    "\n",
    "subjects = [d for d in os.listdir(bids_root) if d.startswith('sub-con')]\n",
    "anatomical_path = op.join(bids_root, subjects[0], 'anat', '{}_T1w.nii.gz'.format(subjects[0]))\n",
    "\n",
    "# Check if the anatomical file exists before calling BET\n",
    "if not os.path.exists(anatomical_path):\n",
    "    print(f\"Error: Anatomical file not found: {anatomical_path}\")\n",
    "else : \n",
    "    print(\"oui\")"
   ]
  },
  {
   "cell_type": "code",
   "execution_count": 9,
   "id": "a0b7df63-ec80-4cdc-ad1d-9f7b92d3108d",
   "metadata": {},
   "outputs": [],
   "source": [
    "#________________________________ ANATOMICAL PREPROCESSING ____________________________________________\n",
    "subjects = [d for d in os.listdir(bids_root) if d.startswith('sub-con')]\n",
    "def get_skull_stripped_anatomical(bids_root, preproc_root, subject, robust=False):\n",
    "    \"\"\"\n",
    "    Function to perform skull-stripping (removing the skull around the brain).\n",
    "    This is a simple wrapper around the brain extraction tool (BET) in FSL's suite\n",
    "    It assumes data to be in the BIDS format (which we will cover in the following weeks).\n",
    "    The method also saves the brain mask which was used to extract the brain.\n",
    "\n",
    "    The brain extraction is conducted only on the T1w of the participant.\n",
    "\n",
    "    Parameters\n",
    "    ----------\n",
    "    bids_root: string\n",
    "        The root of the BIDS directory\n",
    "    preproc_root: string\n",
    "        The root of the preprocessed data, where the result of the brain extraction will be saved.\n",
    "    subject_id: string\n",
    "        Subject ID, the subject on which brain extraction should be conducted.\n",
    "    robust: bool\n",
    "        Whether to conduct robust center estimation with BET or not. Default is False.\n",
    "    \"\"\"\n",
    "    anatomical_path = op.join(bids_root, subject, 'anat', '{}_T1w.nii.gz'.format(subject))\n",
    "    betted_brain_path = op.join(preproc_root, subject, 'anat', '{}_T1w'.format(subject))\n",
    "    os.system('bet {} {} -m {}'.format(anatomical_path, betted_brain_path, '-R' if robust else ''))\n",
    "\n",
    "\n",
    "\n",
    "\n",
    "#for sub in tqdm(subjects) : \n",
    "    #get_skull_stripped_anatomical(bids_root, preproc_root, sub, robust = True)\n",
    "\n",
    "#print(\"Done with BET.\")\n"
   ]
  },
  {
   "cell_type": "code",
   "execution_count": 10,
   "id": "958e129d-e8f9-4776-999d-647a1acd7f2f",
   "metadata": {},
   "outputs": [],
   "source": [
    "subject_01 = 'sub-control01'"
   ]
  },
  {
   "cell_type": "code",
   "execution_count": 11,
   "id": "e7d0d19b-fbd3-4f5c-9064-949b145a294c",
   "metadata": {},
   "outputs": [],
   "source": [
    "#_____________________ SKULL STRIPPING (BET) _________________________________\n",
    "\n",
    "get_skull_stripped_anatomical(bids_root, preproc_root, subject_01, robust=True)"
   ]
  },
  {
   "cell_type": "code",
   "execution_count": 12,
   "id": "9e4fefec-2d9a-4113-b618-7128d8612143",
   "metadata": {},
   "outputs": [
    {
     "name": "stderr",
     "output_type": "stream",
     "text": [
      "\n",
      "(ipykernel_launcher.py:614): Gdk-WARNING **: 14:19:42.687: gdkdrawable-x11.c:952 drawable is not a pixmap or window\n"
     ]
    }
   ],
   "source": [
    "fsleyesDisplay.resetOverlays()\n",
    "fsleyesDisplay.load(op.join(preproc_root, subject_01, 'anat', '{}_T1w.nii.gz'.format(subject_01)))\n",
    "#fsleyesDisplay.load(resulting_mask_path)"
   ]
  },
  {
   "cell_type": "code",
   "execution_count": 13,
   "id": "4f5b2e12-7e9f-4c4a-adfd-fc277eb783dd",
   "metadata": {},
   "outputs": [
    {
     "data": {
      "text/plain": [
       "{}"
      ]
     },
     "execution_count": 13,
     "metadata": {},
     "output_type": "execute_result"
    }
   ],
   "source": [
    "#______________________ TISSUE SEGMENTATION (FAST) _______________\n",
    "\n",
    "anatomical_path = op.join(bids_root, subject_01, 'anat', '{}_T1w.nii.gz'.format(subject_01))\n",
    "bet_path = op.join(preproc_root, subject_01, 'anat', '{}_T1w'.format(subject_01))\n",
    "\n",
    "\n",
    "fast_target = bet_path # Replace with either anatomical_path or bet_path (note: you can try both and decide which is more reasonable!)\n",
    "\n",
    "[os.remove(f) for f in glob.glob(op.join(preproc_root, subject_01, 'anat', '*fast*'))] # Just to clean the directory in between runs of the cell\n",
    "segmentation_path = op.join(preproc_root, subject_01, 'anat', '{}_T1w_fast'.format(subject_01))\n",
    "fast(imgs=[fast_target], out=segmentation_path, n_classes=3)"
   ]
  },
  {
   "cell_type": "code",
   "execution_count": 15,
   "id": "02237126-915d-4c79-b78b-e2d02dd2abe6",
   "metadata": {},
   "outputs": [],
   "source": [
    "fsleyesDisplay.resetOverlays()\n",
    "fsleyesDisplay.load(bet_path)\n",
    "fsleyesDisplay.load(glob.glob(op.join(preproc_root, subject_01, 'anat','*pve_0*'))[0])\n",
    "fsleyesDisplay.load(glob.glob(op.join(preproc_root, subject_01, 'anat','*pve_1*'))[0])\n",
    "fsleyesDisplay.load(glob.glob(op.join(preproc_root, subject_01, 'anat','*pve_2*'))[0])\n",
    "fsleyesDisplay.displayCtx.getOpts(fsleyesDisplay.overlayList[1]).cmap = 'Red'\n",
    "fsleyesDisplay.displayCtx.getOpts(fsleyesDisplay.overlayList[2]).cmap = 'Green'\n",
    "fsleyesDisplay.displayCtx.getOpts(fsleyesDisplay.overlayList[3]).cmap = 'Blue'"
   ]
  },
  {
   "cell_type": "code",
   "execution_count": 16,
   "id": "1a348af3-60b6-4aed-bff3-fec3705ce9f1",
   "metadata": {},
   "outputs": [
    {
     "name": "stdout",
     "output_type": "stream",
     "text": [
      "\n",
      "Final result: \n",
      "0.003348 0.005721 -1.116064 204.794610 \n",
      "-0.933350 0.500887 0.005750 178.784833 \n",
      "0.501418 1.048657 -0.003251 -149.700516 \n",
      "0.000000 0.000000 0.000000 1.000000 \n",
      "\n"
     ]
    },
    {
     "data": {
      "text/plain": [
       "{}"
      ]
     },
     "execution_count": 16,
     "metadata": {},
     "output_type": "execute_result"
    }
   ],
   "source": [
    "#________________ LINEAR - COREGISTRATION | NORMALIZATION (FLIRT) _____________________\n",
    "\n",
    "from fsl.wrappers import flirt\n",
    "subject_anatomical = op.join(preproc_root, subject_01, 'anat', '{}_T1w'.format(subject_01))\n",
    "mni_template = op.expandvars(op.join('$FSLDIR', 'data', 'standard', 'MNI152_T1_1mm_brain'))\n",
    "\n",
    "target = subject_anatomical # Fill me\n",
    "reference = mni_template # Fill me\n",
    "result = op.join(preproc_root, subject_01, 'anat', '{}_T1w_mni'.format(subject_01))\n",
    "flirt(target, reference, out=result)   # \"corratio\" est la loss fct utilisé par default ==> askip d'apres mes recherches adapté pour coregistration de T1 sur MNI template a voir si on veut changer....\n"
   ]
  },
  {
   "cell_type": "code",
   "execution_count": 17,
   "id": "1a01aca6-3838-490b-984b-7aefc211c9cd",
   "metadata": {},
   "outputs": [],
   "source": [
    "fsleyesDisplay.resetOverlays()\n",
    "fsleyesDisplay.load(reference) \n",
    "fsleyesDisplay.load(result)"
   ]
  },
  {
   "cell_type": "code",
   "execution_count": 18,
   "id": "6476c0ae-b9a8-4ad2-902e-90d4d8b78a2b",
   "metadata": {},
   "outputs": [],
   "source": [
    "#___________________________ fMRI PREPROCESSING  __________________________________\n",
    "#on a fais le preprocessing sur les T1 file (antomical data) mtn on utilise ca pour le preprocessing sur les fMRI\n",
    "\n",
    "# STEP DONE ON T1 : \n",
    "#   - T1 skull-stripping (use BET)\n",
    "#   - T1 segmentation (use FAST)\n",
    "#   - Linare normalization of the T1 with MNI template\n",
    "\n",
    "subject_01 = 'sub-control01'\n",
    "# To have a quick view on the volumes\n",
    "run_of_interest = 1 # there are 1-5 runs of interest per subject\n",
    "func_file_name = op.join(\"func\", \"{}_task-music_run-{}_bold.nii.gz\".format(subject_01,run_of_interest))\n",
    "fsleyesDisplay.resetOverlays()\n",
    "func_path = op.join(bids_root, subject_01, func_file_name)\n",
    "fsleyesDisplay.load(func_path)\n"
   ]
  },
  {
   "cell_type": "code",
   "execution_count": 19,
   "id": "17a91438-dace-4df9-8761-7af33f4028c7",
   "metadata": {},
   "outputs": [
    {
     "name": "stdout",
     "output_type": "stream",
     "text": [
      "the TR is: 3.0 secondes\n"
     ]
    }
   ],
   "source": [
    "\n",
    "# Find the TR in order to identify and keep the volumes of interest\n",
    "# JSON File containing metadata of the fMRIs\n",
    "json_file_path = op.join(bids_root,\"task-music_bold.json\")\n",
    "\n",
    "with open(json_file_path, 'r') as f:\n",
    "    metadata = json.load(f)\n",
    "\n",
    "if \"RepetitionTime\" in metadata:\n",
    "    tr_fmri = metadata[\"RepetitionTime\"]\n",
    "    print(f\"the TR is: {tr_fmri} secondes\")\n",
    "else:\n",
    "    print(\"TR not found.\")\n",
    "\n",
    "\n",
    "# ==> tr = 3 thus 1 volumes every 3 seconds\n",
    "# We will Remove the first volume (the first 3 seconds) of each \"tone\" phase in the fMRI analysis in order to: \n",
    "#       1) Stabilize the Hemodynamic Response: The initial volume, taken immediately after the start of a block, may capture a stabilizing BOLD signal rather than a stable, representative brain response to the stimulus. Removing this volume reduces the risk of including transient fluctuations, allowing you to focus on a more stable response.\n",
    "#       2) Avoid Transition Effects Between Blocks: Starting a new block can introduce transition or adjustment effects in the brain, especially if the preceding block involved a different task or condition. Removing the first volume helps minimize these potential transition effects or artifacts at the beginning of a new block.\n",
    "\n",
    "# _____________________!! JSP SI VOUS ETES DACCORD AVEC CA ?? - Mathieu !!_________________________________\n",
    "\n"
   ]
  },
  {
   "cell_type": "code",
   "execution_count": 20,
   "id": "20dadc18-c428-426d-a7d4-91ed31df615f",
   "metadata": {},
   "outputs": [
    {
     "name": "stdout",
     "output_type": "stream",
     "text": [
      "    onset  duration      trial_type\n",
      "0     0.0      33.0           tones\n",
      "1    33.0       3.0        response\n",
      "2    36.0      31.5  negative_music\n",
      "3    67.5       3.0        response\n",
      "4    70.5      31.5           tones\n",
      "5   102.0       3.0        response\n",
      "6   105.0      31.5  positive_music\n",
      "7   136.5       3.0        response\n",
      "8   139.5      31.5           tones\n",
      "9   171.0       3.0        response\n",
      "10  174.0      31.5  negative_music\n",
      "11  205.5       3.0        response\n",
      "12  208.5      31.5           tones\n",
      "13  240.0       3.0        response\n",
      "14  243.0      31.5  positive_music\n",
      "15  274.5       3.0        response\n",
      "16  277.5      31.5           tones\n",
      "17  309.0       3.0        response\n"
     ]
    }
   ],
   "source": [
    "\n",
    "tsv_file_path = \"ds000171/sub-control01/func/sub-control01_task-music_run-1_events.tsv\"\n",
    "table_of_times= pd.read_csv(tsv_file_path, sep='\\t')\n",
    "print(table_of_times)"
   ]
  },
  {
   "cell_type": "code",
   "execution_count": null,
   "id": "909d3b8e-cf45-4fc5-9406-d26d2e365bc7",
   "metadata": {},
   "outputs": [],
   "source": [
    "# ==> Tr = 3 \n",
    "# Run_time = 309 + 3 = 312s \n",
    "# ==> On a 105 volume (celui a t0 + les 312/3 suivants), ca correspond a ce qui est obtenu avec FSL quand on les display"
   ]
  },
  {
   "cell_type": "code",
   "execution_count": 30,
   "id": "0afdcbb6-efa5-4d44-8cb4-286115410e07",
   "metadata": {},
   "outputs": [
    {
     "name": "stdout",
     "output_type": "stream",
     "text": [
      "tones : 12.0 Volumes\n",
      "response : 1.0 Volumes\n",
      "negative_music : 10.0 Volumes\n",
      "response : 1.0 Volumes\n",
      "tones : 11.0 Volumes\n",
      "response : 1.0 Volumes\n",
      "positive_music : 10.0 Volumes\n",
      "response : 1.0 Volumes\n",
      "tones : 11.0 Volumes\n",
      "response : 1.0 Volumes\n",
      "negative_music : 10.0 Volumes\n",
      "response : 1.0 Volumes\n",
      "tones : 11.0 Volumes\n",
      "response : 1.0 Volumes\n",
      "positive_music : 10.0 Volumes\n",
      "response : 1.0 Volumes\n",
      "tones : 11.0 Volumes\n",
      "response : 1.0 Volumes\n",
      "\n",
      "Total numer of volumes : 105.0\n"
     ]
    }
   ],
   "source": [
    "tsv_file_path = \"ds000171/sub-control01/func/sub-control01_task-music_run-1_events.tsv\"\n",
    "TR = 3.0 \n",
    "table_of_times = pd.read_csv(tsv_file_path, sep='\\t')\n",
    "n = 0\n",
    "tot_volumes = 0\n",
    "trial_volumes = {}\n",
    "for _,row in table_of_times.iterrows():\n",
    "    duration = row[\"duration\"]\n",
    "    numb_of_volumes = duration // 3\n",
    "    onset = row[\"onset\"]\n",
    "    bool = (int(onset) - onset != 0 ) and (int(duration) - duration != 0)\n",
    "    if n == 0 or (bool):\n",
    "        numb_of_volumes += 1 \n",
    "    trial_type = row[\"trial_type\"]\n",
    "    txt = f\"{trial_type} : {numb_of_volumes} Volumes\"\n",
    "    print(txt)\n",
    "    n+=1\n",
    "    tot_volumes += numb_of_volumes\n",
    "    trial_volumes[trial_type + str(n)] = numb_of_volumes\n",
    "print(\"\")\n",
    "print(\"Total numer of volumes :\",tot_volumes)\n",
    "\n",
    "\n",
    "    "
   ]
  },
  {
   "cell_type": "code",
   "execution_count": 31,
   "id": "e67701fd-8164-48b1-92c8-c7806291f6f5",
   "metadata": {},
   "outputs": [],
   "source": [
    "# First few Volume removal ==> pas fait a voir si on pense que il faut ?? \n"
   ]
  },
  {
   "cell_type": "code",
   "execution_count": 32,
   "id": "56942112-c639-4eaa-abc7-fac806e83af2",
   "metadata": {},
   "outputs": [
    {
     "name": "stderr",
     "output_type": "stream",
     "text": [
      "Processed data will be saved as ./ds000171/derivatives/preprocessed_data/sub-control01/func/sub-control01_task-music_run-1_bold_moco\n",
      "\n",
      "McFLIRT v 2.0 - FMRI motion correction\n",
      "\n",
      "Reading time series... \n",
      "first iteration - 8mm scaling, set tolerance\n",
      "Rescaling reference volume [52] to 8 mm pixels\n",
      "Registering volumes ... [53][54][55][56][57][58][59][60][61][62][63][64][65][66][67][68][69][70][71][72][73][74][75][76][77][78][79][80][81][82][83][84][85][86][87][88][89][90][91][92][93][94][95][96][97][98][99][100][101][102][103][104][51][50][49][48][47][46][45][44][43][42][41][40][39][38][37][36][35][34][33][32][31][30][29][28][27][26][25][24][23][22][21][20][19][18][17][16][15][14][13][12][11][10][9][8][7][6][5][4][3][2][1][0]\n",
      "second iteration - drop to 4mm scaling\n",
      "Rescaling reference volume [52] to 4 mm pixels\n",
      "Registering volumes ... [53][54][55][56][57][58][59][60][61][62][63][64][65][66][67][68][69][70][71][72][73][74][75][76][77][78][79][80][81][82][83][84][85][86][87][88][89][90][91][92][93][94][95][96][97][98][99][100][101][102][103][104][51][50][49][48][47][46][45][44][43][42][41][40][39][38][37][36][35][34][33][32][31][30][29][28][27][26][25][24][23][22][21][20][19][18][17][16][15][14][13][12][11][10][9][8][7][6][5][4][3][2][1][0]\n",
      "third iteration - 4mm scaling, eighth tolerance\n"
     ]
    },
    {
     "name": "stdout",
     "output_type": "stream",
     "text": [
      "refnum = 52\n",
      "Original_refvol = -1\n"
     ]
    },
    {
     "name": "stderr",
     "output_type": "stream",
     "text": [
      "Registering volumes ... [53][54][55][56][57][58][59][60][61][62][63][64][65][66][67][68][69][70][71][72][73][74][75][76][77][78][79][80][81][82][83][84][85][86][87][88][89][90][91][92][93][94][95][96][97][98][99][100][101][102][103][104][51][50][49][48][47][46][45][44][43][42][41][40][39][38][37][36][35][34][33][32][31][30][29][28][27][26][25][24][23][22][21][20][19][18][17][16][15][14][13][12][11][10][9][8][7][6][5][4][3][2][1][0]\n",
      "Saving motion corrected time series... \n"
     ]
    },
    {
     "name": "stdout",
     "output_type": "stream",
     "text": [
      "Motion correction Done !\n"
     ]
    }
   ],
   "source": [
    "#__________________________ fMRI MOTION CORRECTION (mcFLIRT) __________________________________\n",
    "from fsl.wrappers import mcflirt\n",
    "\n",
    "\n",
    "path_original_data = func_path\n",
    "path_moco_data = op.join(preproc_root, subject_01,\"func\", \"{}_task-music_run-{}_bold_moco\".format(subject_01, run_of_interest))\n",
    "mcflirt(infile=path_original_data,o=path_moco_data, plots=True, report=True, dof=6, mats=True) # Motion correction with 6 degree of freedom ==> translate and rotate along x,y and z\n",
    "print(\"Motion correction Done !\")\n",
    "#print_dir_tree(op.join(preproc_root, subject_01,\"func\"), max_depth=5)\n",
    "\n"
   ]
  },
  {
   "cell_type": "code",
   "execution_count": 33,
   "id": "01726138-bea5-45c9-8eb6-7bde94ab69d8",
   "metadata": {},
   "outputs": [],
   "source": [
    "fsleyesDisplay.resetOverlays()\n",
    "fsleyesDisplay.load(path_original_data)\n",
    "fsleyesDisplay.load(path_moco_data)"
   ]
  },
  {
   "cell_type": "code",
   "execution_count": 36,
   "id": "4c21a3b8-96d8-4871-8a70-3bd6f3d0162e",
   "metadata": {},
   "outputs": [
    {
     "data": {
      "text/html": [
       "<div>\n",
       "<style scoped>\n",
       "    .dataframe tbody tr th:only-of-type {\n",
       "        vertical-align: middle;\n",
       "    }\n",
       "\n",
       "    .dataframe tbody tr th {\n",
       "        vertical-align: top;\n",
       "    }\n",
       "\n",
       "    .dataframe thead th {\n",
       "        text-align: right;\n",
       "    }\n",
       "</style>\n",
       "<table border=\"1\" class=\"dataframe\">\n",
       "  <thead>\n",
       "    <tr style=\"text-align: right;\">\n",
       "      <th></th>\n",
       "      <th>Rotation x</th>\n",
       "      <th>Rotation y</th>\n",
       "      <th>Rotation z</th>\n",
       "      <th>Translation x</th>\n",
       "      <th>Translation y</th>\n",
       "      <th>Translation z</th>\n",
       "    </tr>\n",
       "  </thead>\n",
       "  <tbody>\n",
       "    <tr>\n",
       "      <th>0</th>\n",
       "      <td>0.000843</td>\n",
       "      <td>0.000589</td>\n",
       "      <td>-0.000283</td>\n",
       "      <td>-0.020640</td>\n",
       "      <td>-0.088168</td>\n",
       "      <td>-0.061575</td>\n",
       "    </tr>\n",
       "    <tr>\n",
       "      <th>1</th>\n",
       "      <td>0.000587</td>\n",
       "      <td>0.000481</td>\n",
       "      <td>-0.000326</td>\n",
       "      <td>-0.020651</td>\n",
       "      <td>-0.071060</td>\n",
       "      <td>-0.046486</td>\n",
       "    </tr>\n",
       "    <tr>\n",
       "      <th>2</th>\n",
       "      <td>0.000933</td>\n",
       "      <td>0.000589</td>\n",
       "      <td>-0.000394</td>\n",
       "      <td>-0.020618</td>\n",
       "      <td>-0.046722</td>\n",
       "      <td>-0.035206</td>\n",
       "    </tr>\n",
       "    <tr>\n",
       "      <th>3</th>\n",
       "      <td>0.000550</td>\n",
       "      <td>0.000816</td>\n",
       "      <td>-0.000394</td>\n",
       "      <td>-0.020571</td>\n",
       "      <td>-0.072742</td>\n",
       "      <td>-0.049830</td>\n",
       "    </tr>\n",
       "    <tr>\n",
       "      <th>4</th>\n",
       "      <td>0.000858</td>\n",
       "      <td>0.000589</td>\n",
       "      <td>-0.000394</td>\n",
       "      <td>-0.020618</td>\n",
       "      <td>-0.060591</td>\n",
       "      <td>-0.083145</td>\n",
       "    </tr>\n",
       "    <tr>\n",
       "      <th>...</th>\n",
       "      <td>...</td>\n",
       "      <td>...</td>\n",
       "      <td>...</td>\n",
       "      <td>...</td>\n",
       "      <td>...</td>\n",
       "      <td>...</td>\n",
       "    </tr>\n",
       "    <tr>\n",
       "      <th>100</th>\n",
       "      <td>0.000952</td>\n",
       "      <td>-0.000853</td>\n",
       "      <td>0.000040</td>\n",
       "      <td>-0.013383</td>\n",
       "      <td>0.118385</td>\n",
       "      <td>0.187859</td>\n",
       "    </tr>\n",
       "    <tr>\n",
       "      <th>101</th>\n",
       "      <td>0.000457</td>\n",
       "      <td>-0.001224</td>\n",
       "      <td>0.000051</td>\n",
       "      <td>-0.009799</td>\n",
       "      <td>0.133098</td>\n",
       "      <td>0.214907</td>\n",
       "    </tr>\n",
       "    <tr>\n",
       "      <th>102</th>\n",
       "      <td>0.001244</td>\n",
       "      <td>-0.001305</td>\n",
       "      <td>0.000298</td>\n",
       "      <td>-0.028813</td>\n",
       "      <td>0.134919</td>\n",
       "      <td>0.187284</td>\n",
       "    </tr>\n",
       "    <tr>\n",
       "      <th>103</th>\n",
       "      <td>0.000731</td>\n",
       "      <td>-0.001537</td>\n",
       "      <td>0.000073</td>\n",
       "      <td>-0.030532</td>\n",
       "      <td>0.127386</td>\n",
       "      <td>0.185354</td>\n",
       "    </tr>\n",
       "    <tr>\n",
       "      <th>104</th>\n",
       "      <td>0.000727</td>\n",
       "      <td>-0.001304</td>\n",
       "      <td>0.000000</td>\n",
       "      <td>-0.049218</td>\n",
       "      <td>0.124305</td>\n",
       "      <td>0.134442</td>\n",
       "    </tr>\n",
       "  </tbody>\n",
       "</table>\n",
       "<p>105 rows × 6 columns</p>\n",
       "</div>"
      ],
      "text/plain": [
       "     Rotation x  Rotation y  Rotation z  Translation x  Translation y  \\\n",
       "0      0.000843    0.000589   -0.000283      -0.020640      -0.088168   \n",
       "1      0.000587    0.000481   -0.000326      -0.020651      -0.071060   \n",
       "2      0.000933    0.000589   -0.000394      -0.020618      -0.046722   \n",
       "3      0.000550    0.000816   -0.000394      -0.020571      -0.072742   \n",
       "4      0.000858    0.000589   -0.000394      -0.020618      -0.060591   \n",
       "..          ...         ...         ...            ...            ...   \n",
       "100    0.000952   -0.000853    0.000040      -0.013383       0.118385   \n",
       "101    0.000457   -0.001224    0.000051      -0.009799       0.133098   \n",
       "102    0.001244   -0.001305    0.000298      -0.028813       0.134919   \n",
       "103    0.000731   -0.001537    0.000073      -0.030532       0.127386   \n",
       "104    0.000727   -0.001304    0.000000      -0.049218       0.124305   \n",
       "\n",
       "     Translation z  \n",
       "0        -0.061575  \n",
       "1        -0.046486  \n",
       "2        -0.035206  \n",
       "3        -0.049830  \n",
       "4        -0.083145  \n",
       "..             ...  \n",
       "100       0.187859  \n",
       "101       0.214907  \n",
       "102       0.187284  \n",
       "103       0.185354  \n",
       "104       0.134442  \n",
       "\n",
       "[105 rows x 6 columns]"
      ]
     },
     "execution_count": 36,
     "metadata": {},
     "output_type": "execute_result"
    }
   ],
   "source": [
    "def load_mot_params_fsl_6_dof(path):\n",
    "    return pd.read_csv(path, sep='  ', header=None, \n",
    "            engine='python', names=['Rotation x', 'Rotation y', 'Rotation z','Translation x', 'Translation y', 'Translation z'])\n",
    "\n",
    "mot_params_01 = load_mot_params_fsl_6_dof(path_moco_data+ '.par')\n",
    "mot_params_01"
   ]
  },
  {
   "cell_type": "code",
   "execution_count": 40,
   "id": "972aadb8-3e47-471b-aeaa-09d802051c31",
   "metadata": {},
   "outputs": [
    {
     "data": {
      "image/png": "[encoded data removed]",
      "text/plain": [
       "<Figure size 640x480 with 1 Axes>"
      ]
     },
     "metadata": {},
     "output_type": "display_data"
    }
   ],
   "source": [
    "# ____________________ QUANTIFY THE DISPLACEMENT _________________________\n",
    "import matplotlib.pyplot as plt\n",
    "\n",
    "def compute_FD_power(mot_params):\n",
    "    framewise_diff = mot_params.diff().iloc[1:]\n",
    "\n",
    "    rot_params = framewise_diff[['Rotation x', 'Rotation y', 'Rotation z']]\n",
    "    # Estimating displacement on a 50mm radius sphere\n",
    "    # To know this one, we can remember the definition of the radian!\n",
    "    # Indeed, let the radian be theta, the arc length be s and the radius be r.\n",
    "    # Then theta = s / r\n",
    "    # We want to determine here s, for a sphere of 50mm radius and knowing theta. Easy enough!\n",
    "    \n",
    "    # Another way to think about it is through the line integral along the circle.\n",
    "    # Integrating from 0 to theta with radius 50 will give you, unsurprisingly, r0 theta.\n",
    "    converted_rots = rot_params*50\n",
    "    trans_params = framewise_diff[['Translation x', 'Translation y', 'Translation z']]\n",
    "    fd = converted_rots.abs().sum(axis=1) + trans_params.abs().sum(axis=1)\n",
    "    return fd\n",
    "\n",
    "fd = compute_FD_power(mot_params_01).to_numpy()\n",
    "threshold = np.quantile(fd,0.75) + 1.5*(np.quantile(fd,0.75) - np.quantile(fd,0.25))\n",
    "#%matplotlib inline\n",
    "plt.plot(list(range(1, fd.size+1)), fd)\n",
    "plt.xlabel('Volume')\n",
    "plt.ylabel('FD displacement (mm)')\n",
    "plt.hlines(threshold, 0, len(fd),colors='black', linestyles='dashed', label='FD threshold')\n",
    "plt.legend()\n",
    "plt.show()"
   ]
  },
  {
   "cell_type": "code",
   "execution_count": null,
   "id": "8ede36f8-9f13-42d1-832e-86b2c557050e",
   "metadata": {},
   "outputs": [],
   "source": [
    "# ____________________ Coregistration of functional to anatomical ________________________"
   ]
  }
 ],
 "metadata": {
  "kernelspec": {
   "display_name": "Python 3 (ipykernel)",
   "language": "python",
   "name": "python3"
  },
  "language_info": {
   "codemirror_mode": {
    "name": "ipython",
    "version": 3
   },
   "file_extension": ".py",
   "mimetype": "text/x-python",
   "name": "python",
   "nbconvert_exporter": "python",
   "pygments_lexer": "ipython3",
   "version": "3.11.6"
  }
 },
 "nbformat": 4,
 "nbformat_minor": 5
}
